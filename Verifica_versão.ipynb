{
  "cells": [
    {
      "cell_type": "code",
      "execution_count": 2,
      "metadata": {
        "colab": {},
        "colab_type": "code",
        "id": "gSHqMRhFzcAb"
      },
      "outputs": [],
      "source": [
        "import pandas\n",
        "import numpy\n",
        "import seaborn\n",
        "import scipy"
      ]
    },
    {
      "cell_type": "code",
      "execution_count": 5,
      "metadata": {
        "colab": {
          "base_uri": "https://localhost:8080/",
          "height": 89
        },
        "colab_type": "code",
        "id": "GQ5bxfxXzvKp",
        "outputId": "ae36393a-5ade-40d0-ad59-00531abfed38"
      },
      "outputs": [
        {
          "name": "stdout",
          "output_type": "stream",
          "text": [
            "Versão do pandas -> 1.4.4\n",
            "Versão do numpy -> 1.23.2\n",
            "Versão do seaborn -> 0.12.0\n",
            "Versão do scipy -> 1.9.1\n"
          ]
        }
      ],
      "source": [
        "print(f'Versão do pandas -> {pandas.__version__}')\n",
        "print(f'Versão do numpy -> {numpy.__version__}')\n",
        "print(f'Versão do seaborn -> {seaborn.__version__}')\n",
        "print(f'Versão do scipy -> {scipy.__version__}')"
      ]
    }
  ],
  "metadata": {
    "colab": {
      "name": "Verifica_versão.ipynb",
      "provenance": [],
      "version": "0.3.2"
    },
    "kernelspec": {
      "display_name": "Python 3.10.7 64-bit (microsoft store)",
      "language": "python",
      "name": "python3"
    },
    "language_info": {
      "codemirror_mode": {
        "name": "ipython",
        "version": 3
      },
      "file_extension": ".py",
      "mimetype": "text/x-python",
      "name": "python",
      "nbconvert_exporter": "python",
      "pygments_lexer": "ipython3",
      "version": "3.10.7"
    },
    "vscode": {
      "interpreter": {
        "hash": "c3e04a0d7a6c9fc4f8d8a20e000201c7dd11c803bbc73780f932f88045cb4fae"
      }
    }
  },
  "nbformat": 4,
  "nbformat_minor": 0
}
